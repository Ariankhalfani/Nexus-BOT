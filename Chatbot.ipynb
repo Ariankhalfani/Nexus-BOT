{
 "cells": [
  {
   "cell_type": "code",
   "execution_count": 1,
   "metadata": {},
   "outputs": [
    {
     "name": "stdout",
     "output_type": "stream",
     "text": [
      "Collecting fuzzywuzzy\n",
      "  Downloading fuzzywuzzy-0.18.0-py2.py3-none-any.whl.metadata (4.9 kB)\n",
      "Downloading fuzzywuzzy-0.18.0-py2.py3-none-any.whl (18 kB)\n",
      "Installing collected packages: fuzzywuzzy\n",
      "Successfully installed fuzzywuzzy-0.18.0\n"
     ]
    }
   ],
   "source": [
    "!pip install fuzzywuzzy"
   ]
  },
  {
   "cell_type": "code",
   "execution_count": 3,
   "metadata": {},
   "outputs": [
    {
     "name": "stdout",
     "output_type": "stream",
     "text": [
      "Collecting nltk\n",
      "  Downloading nltk-3.8.1-py3-none-any.whl.metadata (2.8 kB)\n",
      "Requirement already satisfied: click in c:\\users\\hp\\anaconda33\\envs\\pydml\\lib\\site-packages (from nltk) (8.1.7)\n",
      "Collecting joblib (from nltk)\n",
      "  Using cached joblib-1.3.2-py3-none-any.whl.metadata (5.4 kB)\n",
      "Requirement already satisfied: regex>=2021.8.3 in c:\\users\\hp\\anaconda33\\envs\\pydml\\lib\\site-packages (from nltk) (2023.10.3)\n",
      "Requirement already satisfied: tqdm in c:\\users\\hp\\anaconda33\\envs\\pydml\\lib\\site-packages (from nltk) (4.65.0)\n",
      "Requirement already satisfied: colorama in c:\\users\\hp\\anaconda33\\envs\\pydml\\lib\\site-packages (from click->nltk) (0.4.6)\n",
      "Downloading nltk-3.8.1-py3-none-any.whl (1.5 MB)\n",
      "   ---------------------------------------- 0.0/1.5 MB ? eta -:--:--\n",
      "   ---------------------------------------- 0.0/1.5 MB ? eta -:--:--\n",
      "    --------------------------------------- 0.0/1.5 MB 325.1 kB/s eta 0:00:05\n",
      "   - -------------------------------------- 0.1/1.5 MB 465.5 kB/s eta 0:00:04\n",
      "   -- ------------------------------------- 0.1/1.5 MB 726.2 kB/s eta 0:00:02\n",
      "   ----- ---------------------------------- 0.2/1.5 MB 980.4 kB/s eta 0:00:02\n",
      "   ----- ---------------------------------- 0.2/1.5 MB 981.9 kB/s eta 0:00:02\n",
      "   ------- -------------------------------- 0.3/1.5 MB 980.4 kB/s eta 0:00:02\n",
      "   ---------- ----------------------------- 0.4/1.5 MB 1.1 MB/s eta 0:00:02\n",
      "   ----------- ---------------------------- 0.5/1.5 MB 1.2 MB/s eta 0:00:01\n",
      "   -------------- ------------------------- 0.5/1.5 MB 1.2 MB/s eta 0:00:01\n",
      "   --------------- ------------------------ 0.6/1.5 MB 1.2 MB/s eta 0:00:01\n",
      "   ----------------- ---------------------- 0.7/1.5 MB 1.2 MB/s eta 0:00:01\n",
      "   -------------------- ------------------- 0.8/1.5 MB 1.3 MB/s eta 0:00:01\n",
      "   ----------------------- ---------------- 0.9/1.5 MB 1.4 MB/s eta 0:00:01\n",
      "   ------------------------ --------------- 0.9/1.5 MB 1.4 MB/s eta 0:00:01\n",
      "   --------------------------- ------------ 1.0/1.5 MB 1.5 MB/s eta 0:00:01\n",
      "   ----------------------------- ---------- 1.1/1.5 MB 1.5 MB/s eta 0:00:01\n",
      "   -------------------------------- ------- 1.2/1.5 MB 1.5 MB/s eta 0:00:01\n",
      "   ---------------------------------- ----- 1.3/1.5 MB 1.5 MB/s eta 0:00:01\n",
      "   -------------------------------------- - 1.4/1.5 MB 1.6 MB/s eta 0:00:01\n",
      "   ---------------------------------------  1.5/1.5 MB 1.6 MB/s eta 0:00:01\n",
      "   ---------------------------------------- 1.5/1.5 MB 1.6 MB/s eta 0:00:00\n",
      "Using cached joblib-1.3.2-py3-none-any.whl (302 kB)\n",
      "Installing collected packages: joblib, nltk\n",
      "Successfully installed joblib-1.3.2 nltk-3.8.1\n"
     ]
    }
   ],
   "source": [
    "!pip install nltk "
   ]
  },
  {
   "cell_type": "code",
   "execution_count": 4,
   "metadata": {},
   "outputs": [
    {
     "name": "stderr",
     "output_type": "stream",
     "text": [
      "c:\\Users\\HP\\anaconda33\\envs\\pydml\\lib\\site-packages\\fuzzywuzzy\\fuzz.py:11: UserWarning: Using slow pure-python SequenceMatcher. Install python-Levenshtein to remove this warning\n",
      "  warnings.warn('Using slow pure-python SequenceMatcher. Install python-Levenshtein to remove this warning')\n"
     ]
    },
    {
     "name": "stdout",
     "output_type": "stream",
     "text": [
      "Welcome to NexusBot! How can I assist you today?\n",
      "NexusBot: Hey!\n",
      "NexusBot: I am Nexus-Bot, Your personal healthcare consultant!.\n",
      "NexusBot: Hey!\n",
      "NexusBot: Nexus-Sugar helps determine if your blood sugar levels are normal or related to diabetes.\n",
      "NexusBot: I am Nexus-Bot, Your personal healthcare consultant!.\n",
      "NexusBot: See you later!\n"
     ]
    }
   ],
   "source": [
    "import nltk\n",
    "from nltk.chat.util import Chat, reflections\n",
    "from fuzzywuzzy import process\n",
    "\n",
    "# Define patterns for the chatbot\n",
    "patterns = [\n",
    "    (r'hi|hello|hey', ['Hello!', 'Hi there!', 'Hey!']),\n",
    "    (r'how are you?', ['I am doing well, thank you!', 'I am fine, thanks for asking.']),\n",
    "    (r'who are you?', ['I am Nexus-Bot, Your personal healthcare consultant!.']),\n",
    "    (r'what do you do?', ['Providing you with a good information about Wellness-Nexus services.']),\n",
    "    (r'quit|exit', ['Goodbye!', 'Bye!', 'See you later!']),\n",
    "    (r'what services do you offer?', ['We offer a variety of services including Nexus-Scan, Nexus-Sugar, and Nexus-Meal.']),\n",
    "    (r'what is Nexus-Scan?', ['Nexus-Scan allows patients to upload photos of their meals to predict the calorie content.']),\n",
    "    (r'what is Nexus-Sugar?', ['Nexus-Sugar helps determine if your blood sugar levels are normal or related to diabetes.']),\n",
    "    (r'what is Nexus-Meal?', ['Nexus-Meal provides information about healthy diet options you can prepare or find locally.']),\n",
    "    (r'how does Nexus-Scan work?', ['Nexus-Scan uses advanced algorithms to analyze meal photos and estimate calorie content.']),\n",
    "    (r'how does Nexus-Sugar work?', ['Nexus-Sugar analyzes your blood sugar data to detect patterns and trends over time.']),\n",
    "    (r'how does Nexus-Meal work?', ['Nexus-Meal offers personalized advice and recommendations based on your dietary preferences.']),\n",
    "]\n",
    "\n",
    "# Add more patterns based on the provided information\n",
    "patterns += [\n",
    "    (r'CV to Diagnose food calories content and fat', ['Nexus-Scan is a computer vision model that diagnoses food calories content and fat by analyzing meal photos.']),\n",
    "    (r'Reminder Algorithm', ['NexusBot uses a reminder algorithm to help users stay on track with their health goals and provides recommendations for delicious, healthy food options.']),\n",
    "    (r'Sugar Blood Content measurement', ['Nexus-Sugar measures sugar blood content over time to analyze the probability of being healthy or diabetical.']),\n",
    "    (r'Obesity Calculator', ['Nexus-Calculator calculates obesity based on personalized data and provides insights into health and fitness.']),\n",
    "    (r'Website to provide all of it', ['Nexus-Web is a website that integrates all Wellness-Nexus services and provides comprehensive health information and resources.']),\n",
    "    (r'Interface to make the apps looks healthy and intriguing', ['Nexus-FrontEnd designs interfaces that are visually appealing and engaging to encourage user interaction and adoption of healthy habits.']),\n",
    "    (r'Good morning|Good morning!', ['Good morning!', 'Morning!', 'Hello, how are you today?']),\n",
    "    (r'Good afternoon|Good afternoon!', ['Good afternoon!', 'Afternoon!', 'How can I assist you this afternoon?']),\n",
    "    (r'Good evening|Good evening!', ['Good evening!', 'Evening!', 'How can I help you tonight?']),\n",
    "    (r'How was your day?', ['It was good, thank you for asking.', 'Pretty good, thanks!', 'Not too bad, how about yours?']),\n",
    "    (r'What are your plans for today?', ['Just here to assist you!', 'Helping users like you!', 'Answering your questions!']),\n",
    "    (r'What do you like to do in your free time?', ['I enjoy chatting with users like you!', 'Learning new things!', 'Helping out wherever I can!']),\n",
    "\n",
    "    # Jokes\n",
    "    (r'Tell me a joke', ['Why dont scientists trust atoms? Because they make up everything!', 'I told my wife she should embrace her mistakes. She gave me a hug.', 'Why did the scarecrow win an award? Because he was outstanding in his field!']),\n",
    "    (r'Can you make me laugh?', ['Sure, here\\'s one: Why did the bicycle fall over? Because it was two-tired!', 'How do you organize a space party? You planet!', 'What do you call fake spaghetti? An impasta!']),\n",
    "    (r'Knock knock', ['Who\\'s there?', 'Knock knock!', 'Who\\'s there?', 'Boo', 'Boo who?', 'Don\\'t cry, it\\'s just a joke!']),\n",
    "    (r'Why did the chicken cross the road?', ['To get to the other side!', 'To prove it wasn\\'t chicken!', 'To avoid Colonel Sanders!']),\n",
    "    (r'What do you call a fish with no eyes?', ['Fsh!', 'A fish!', 'Blind!']),\n",
    "    (r'Why was the math book sad?', ['Because it had too many problems!', 'Because it had too many chapters!', 'Because it had too many pages!']),\n",
    "    (r'Why did the tomato turn red?', ['Because it saw the salad dressing!', 'Because it was embarrassed!', 'Because it was blushing!']),\n",
    "    (r'What do you call cheese that isn\\'t yours?', ['Nacho cheese!', 'Not your cheese!', 'Stolen cheese!']),\n",
    "    (r'Why don\\'t skeletons fight each other?', ['They don\\'t have the guts!', 'They don\\'t have the stomach for it!', 'They don\\'t have the heart!']),\n",
    "    (r'Why did the golfer bring two pairs of pants?', ['In case he got a hole in one!', 'In case he got a hole in three!', 'In case he got a hole in five!']),\n",
    "    (r'How\\'s the weather today?', ['Im not sure, but you can check your local weather forecast!', 'I dont have access to real-time weather information, but you can check online or on your phone.']),\n",
    "    (r'What time is it?', ['I dont have access to real-time clock information, but you can check the time on your device!', 'You can check the time on your phone or computer.']),\n",
    "    (r'Have you had breakfast/lunch/dinner?', ['I don\\'t eat, but I\\'m always here to help!', 'I don\\'t require food, but I\\'m ready to assist you!', 'I don\\'t have meals like humans, but I\\'m available to chat!']),\n",
    "    (r'How\\'s your day going so far?', ['Every day is a good day to assist users like you!', 'Im here and ready to help, so its going well!', 'I don\\'t have days like humans, but I\\'m always available to chat!']),\n",
    "\n",
    "    # Jokes (continued)\n",
    "    (r'Why dont scientists trust atoms?', ['Because they make up everything!', 'Because theyre always up to something!', 'Because they can\\'t be seen with the naked eye!']),\n",
    "    (r'What do you call fake spaghetti?', ['An impasta!', 'A faketti!', 'An imposter!']),\n",
    "    (r'Why did the scarecrow win an award?', ['Because he was outstanding in his field!', 'Because he was so good at his job!', 'Because he was so scary!']),\n",
    "    (r'What do you get when you cross a snowman and a vampire?', ['Frostbite!', 'Frosty the Snow Vampire!', 'A snowman that sucks your blood!']),\n",
    "    (r'Why dont skeletons fight each other?', ['They dont have the guts!', 'They dont have the stomach for it!', 'They dont have the heart!']),\n",
    "    (r'What did one hat say to the other?', ['You stay here, Ill go on ahead!', 'Youre on top of things!', 'Youre a head of the game!']),\n",
    "    (r'Why did the bicycle fall over?', ['Because it was two-tired!', 'Because it was leaning too much!', 'Because it lost its balance!']),\n",
    "    (r'What did one ocean say to the other ocean?', ['Nothing, they just waved!', 'They just went with the flow!', 'They just said \"sea\" you later!']),\n",
    "    (r'Why did the tomato turn red?', ['Because it saw the salad dressing!', 'Because it was embarrassed!', 'Because it was blushing!']),\n",
    "    (r'Why dont eggs tell jokes?', ['Because they might crack up!', 'Because theyre too chicken!', 'Because theyre not yolking around!']),\n",
    "\n",
    "    # Random Interactions\n",
    "    (r'Tell me something interesting', ['Did you know that the Earths atmosphere is about 78% nitrogen, 21% oxygen, and 1% other gases?', 'The longest recorded flight of a chicken is 13 seconds!', 'Cows have best friends and get stressed when they are separated!']),\n",
    "    (r'Can you recommend a movie?', ['What genre do you like?', 'Sure, what type of movie are you in the mood for?', 'I can suggest a movie based on your favorite genre!']),\n",
    "    (r'What\\'s your favorite book?', ['I don\\'t have preferences like humans, but I can recommend some popular books!', 'I enjoy all kinds of books, but I can suggest a few if you like.', 'I don\\'t read books, but I can help you find something interesting to read!']),\n",
    "    (r'Do you like music?', ['I don\\'t have personal preferences, but I can help you find music recommendations!', 'I don\\'t listen to music, but I can assist you in finding some good tunes!', 'I can help you discover new music if you\\'d like!']),\n",
    "    (r'What\\'s your favorite color?', ['I don\\'t have preferences like humans, but I can appreciate all colors!', 'I don\\'t see colors, but I can help you find color inspiration if you need!', 'I don\\'t have a favorite color, but I can help you pick one!']),\n",
    "    (r'Can you tell me a fun fact?', ['Sure! Did you know that butterflies taste with their feet?', 'Here\\'s one: The shortest war in history lasted only 38 minutes!', 'Did you know that an octopus has three hearts and blue blood?']),\n",
    "    (r'Can you help me with a riddle?', ['Of course! I love riddles! Go ahead and ask.', 'Sure! Fire away with your riddle.', 'I\\'d be happy to try! What\\'s your riddle?']),\n",
    "    (r'Are you a robot?', ['I am an AI-powered chatbot designed to assist users like you!', 'Yes, I am an AI-based virtual assistant here to help you!', 'I am an artificial intelligence designed to provide assistance and answer your questions!']),\n",
    "]\n",
    "\n",
    "# Create a chatbot instance\n",
    "chatbot = Chat(patterns, reflections)\n",
    "\n",
    "import pickle\n",
    "\n",
    "# Save the chatbot model\n",
    "with open('chatbot_model.pkl', 'wb') as f:\n",
    "    pickle.dump(chatbot, f)\n",
    "\n",
    "\n",
    "# Start the conversation loop\n",
    "print(\"Welcome to NexusBot! How can I assist you today?\")\n",
    "while True:\n",
    "    user_input = input(\"You: \")\n",
    "\n",
    "    # Perform fuzzy matching to find the best match for user input\n",
    "    best_match, _ = process.extractOne(user_input, [pattern[0] for pattern in patterns])\n",
    "    response = chatbot.respond(best_match)\n",
    "\n",
    "    print(\"NexusBot:\", response)\n",
    "    if user_input.lower() == 'quit' or user_input.lower() == 'exit':\n",
    "        break"
   ]
  },
  {
   "cell_type": "code",
   "execution_count": 7,
   "metadata": {},
   "outputs": [
    {
     "name": "stdout",
     "output_type": "stream",
     "text": [
      "Welcome to NexusBot! How can I assist you today?\n",
      "NexusBot: Hello!\n",
      "NexusBot: Hey!\n",
      "NexusBot: Hi there!\n",
      "NexusBot: I am Nexus-Bot, Your personal healthcare consultant!.\n",
      "NexusBot: Goodbye!\n"
     ]
    }
   ],
   "source": [
    "import pickle\n",
    "\n",
    "# Load the chatbot model\n",
    "with open('chatbot_model.pkl', 'rb') as f:\n",
    "    chatbot = pickle.load(f)\n",
    "\n",
    "print(\"Welcome to NexusBot! How can I assist you today?\")\n",
    "while True:\n",
    "    user_input = input(\"You: \")\n",
    "\n",
    "    # Retrieve the response associated with the user input\n",
    "    response = chatbot.respond(user_input)\n",
    "\n",
    "    print(\"NexusBot:\", response)\n",
    "    if user_input.lower() == 'quit' or user_input.lower() == 'exit':\n",
    "        break\n"
   ]
  },
  {
   "cell_type": "code",
   "execution_count": 9,
   "metadata": {},
   "outputs": [
    {
     "name": "stdout",
     "output_type": "stream",
     "text": [
      " * Serving Flask app '__main__'\n",
      " * Debug mode: off\n"
     ]
    },
    {
     "name": "stderr",
     "output_type": "stream",
     "text": [
      "WARNING: This is a development server. Do not use it in a production deployment. Use a production WSGI server instead.\n",
      " * Running on all addresses (0.0.0.0)\n",
      " * Running on http://127.0.0.1:5000\n",
      " * Running on http://192.168.9.101:5000\n",
      "Press CTRL+C to quit\n",
      "192.168.9.101 - - [06/Mar/2024 04:45:49] \"GET / HTTP/1.1\" 200 -\n",
      "192.168.9.101 - - [06/Mar/2024 04:45:49] \"GET /favicon.ico HTTP/1.1\" 404 -\n",
      "127.0.0.1 - - [06/Mar/2024 04:45:53] \"GET / HTTP/1.1\" 200 -\n",
      "127.0.0.1 - - [06/Mar/2024 04:45:53] \"GET /favicon.ico HTTP/1.1\" 404 -\n"
     ]
    }
   ],
   "source": [
    "from flask import Flask, request, jsonify\n",
    "import pickle\n",
    "\n",
    "# Load the chatbot model\n",
    "with open('chatbot_model.pkl', 'rb') as f:\n",
    "    chatbot = pickle.load(f)\n",
    "\n",
    "# Create a Flask application\n",
    "app = Flask(__name__)\n",
    "\n",
    "# Define a route for the chatbot endpoint\n",
    "@app.route('/chatbot', methods=['POST'])\n",
    "def chatbot_endpoint():\n",
    "    # Get the user input from the request data\n",
    "    user_input = request.json['user_input']\n",
    "\n",
    "    # Retrieve the response associated with the user input\n",
    "    response = chatbot.respond(user_input)\n",
    "\n",
    "    # Return the response as JSON\n",
    "    return jsonify({'response': response})\n",
    "\n",
    "# Define a route for the home page\n",
    "@app.route('/')\n",
    "def home():\n",
    "    return \"Welcome to the Chatbot Endpoint!\"\n",
    "\n",
    "# Run the Flask application\n",
    "if __name__ == '__main__':\n",
    "    app.run(debug=False, host='0.0.0.0', port=5000)\n",
    "\n"
   ]
  }
 ],
 "metadata": {
  "kernelspec": {
   "display_name": "Python 3",
   "language": "python",
   "name": "python3"
  },
  "language_info": {
   "codemirror_mode": {
    "name": "ipython",
    "version": 3
   },
   "file_extension": ".py",
   "mimetype": "text/x-python",
   "name": "python",
   "nbconvert_exporter": "python",
   "pygments_lexer": "ipython3",
   "version": "3.10.13"
  }
 },
 "nbformat": 4,
 "nbformat_minor": 2
}
